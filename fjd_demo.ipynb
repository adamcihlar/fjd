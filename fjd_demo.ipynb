{
 "cells": [
  {
   "cell_type": "markdown",
   "metadata": {},
   "source": [
    "# How to Use FJD\n",
    "\n",
    "This notebook provides a simple example of how to evaluate a conditional GAN using FJD."
   ]
  },
  {
   "cell_type": "code",
   "execution_count": 1,
   "metadata": {},
   "outputs": [],
   "source": [
    "%matplotlib inline\n",
    "import numpy as np\n",
    "\n",
    "import torch\n",
    "import matplotlib.pyplot as plt\n",
    "import torchvision.transforms as transforms\n",
    "from torch.utils.data import DataLoader\n",
    "from torchvision.datasets import CIFAR10\n",
    "\n",
    "from fjd_metric import FJDMetric\n",
    "from embeddings import OneHotEmbedding, InceptionEmbedding"
   ]
  },
  {
   "cell_type": "markdown",
   "metadata": {},
   "source": [
    "In order to compute FJD we will need two data loaders: one to provide images and conditioning for the reference distribution, and a second one whose conditioning will be used to condition the GAN for creating the generated distribution. For this example we will use the CIFAR-10 dataset.\n",
    "\n",
    "When loading in reference images, it is important to normalize them between [-1, 1]."
   ]
  },
  {
   "cell_type": "code",
   "execution_count": 2,
   "metadata": {},
   "outputs": [],
   "source": [
    "def get_dataloaders():\n",
    "    transform = transforms.Compose(\n",
    "        [transforms.ToTensor(),\n",
    "         transforms.Normalize(mean=(0.5, 0.5, 0.5), \n",
    "                              std=(0.5, 0.5, 0.5))])\n",
    "\n",
    "    train_set = CIFAR10(root='./datasets/cifar10',\n",
    "                        train=True,\n",
    "                        download=True,\n",
    "                        transform=transform)\n",
    "\n",
    "    test_set = CIFAR10(root='./datasets/cifar10',\n",
    "                       train=False,\n",
    "                       download=True,\n",
    "                       transform=transform)\n",
    "\n",
    "    train_loader = DataLoader(train_set,\n",
    "                              batch_size=128,\n",
    "                              shuffle=True,\n",
    "                              drop_last=False,\n",
    "                              num_workers=2)\n",
    "\n",
    "    test_loader = DataLoader(test_set,\n",
    "                             batch_size=128,\n",
    "                             shuffle=False,\n",
    "                             drop_last=False,\n",
    "                             num_workers=2)\n",
    "\n",
    "    return train_loader, test_loader"
   ]
  },
  {
   "cell_type": "markdown",
   "metadata": {},
   "source": [
    "To simulate a GAN we will use samples from the test set. Note that the labels from the test set are shuffled, so although the image distribution should match the reference distribution well, the conditional consistency will be very bad since most of the \"generated\" images will not match the requested conditions."
   ]
  },
  {
   "cell_type": "code",
   "execution_count": 3,
   "metadata": {},
   "outputs": [],
   "source": [
    "class SuspiciouslyGoodGAN(torch.nn.Module):\n",
    "    def __init__(self):\n",
    "        super(SuspiciouslyGoodGAN, self).__init__()\n",
    "\n",
    "        transform = transforms.Compose([\n",
    "            transforms.ToTensor(),\n",
    "            transforms.Normalize(mean=(0.5, 0.5, 0.5),\n",
    "                                 std=(0.5, 0.5, 0.5))])\n",
    "\n",
    "        test_set = CIFAR10(root='./datasets/cifar10',\n",
    "                           train=False,\n",
    "                           download=True,\n",
    "                           transform=transform)\n",
    "\n",
    "        test_loader = DataLoader(test_set,\n",
    "                                 batch_size=128,\n",
    "                                 shuffle=True,\n",
    "                                 drop_last=False,\n",
    "                                 num_workers=2)\n",
    "\n",
    "        self.test_loader = test_loader\n",
    "        self.data_iter = iter(test_loader)\n",
    "\n",
    "    def forward(self, z, y):\n",
    "        # Normally a GAN would actually do something with z and y, but for this fake GAN we ignore them\n",
    "        try:\n",
    "            samples, _ = next(self.data_iter)\n",
    "        except StopIteration:\n",
    "            # Reset dataloader if it runs out of samples\n",
    "            self.data_iter = iter(self.test_loader)\n",
    "            samples, _ = next(self.data_iter)\n",
    "        samples = samples.cuda()\n",
    "        return samples"
   ]
  },
  {
   "cell_type": "markdown",
   "metadata": {},
   "source": [
    "In order to be able to accomodate a wide variety of model configurations, we use a GAN wrapper to standardize model inputs and outputs. Each model is expected to take as input a set of conditions _y_, and return a corresponding set of generated samples."
   ]
  },
  {
   "cell_type": "code",
   "execution_count": 4,
   "metadata": {},
   "outputs": [],
   "source": [
    "class GANWrapper:\n",
    "    def __init__(self, model, model_checkpoint=None):\n",
    "        self.model = model\n",
    "        \n",
    "        if model_checkpoint is not None:\n",
    "            self.model_checkpoint = model_checkpoint\n",
    "            self.load_model()\n",
    "\n",
    "    def load_model(self):\n",
    "        # self.model.eval()  # uncomment to put in eval mode if desired\n",
    "        self.model = self.model.cuda()\n",
    "\n",
    "        state_dict = torch.load(self.model_checkpoint)\n",
    "        self.model.load_state_dict(state_dict)\n",
    "\n",
    "    def get_noise(self, batch_size):\n",
    "        # change the noise dimension as required\n",
    "        z = torch.cuda.FloatTensor(batch_size, 128).normal_()\n",
    "        return z\n",
    "\n",
    "    def __call__(self, y):\n",
    "        batch_size = y.size(0)\n",
    "        z = self.get_noise(batch_size)\n",
    "        samples = self.model(z, y)\n",
    "        return samples"
   ]
  },
  {
   "cell_type": "markdown",
   "metadata": {},
   "source": [
    "The FJDMetric object handles embedding the images and conditioning, the computation of the reference distribution and generated distribution statistics, the scaling of the conditioning component with alpha, and the calculation of FJD. It requires several inputs:\n",
    "\n",
    "1. **gan** - A GAN model which takes as input conditioning and yields image samples as output.  \n",
    "2. **reference_loader** - A data loader for the reference distribution, which yields image-condition pairs.  \n",
    "3. **condition_loader** - A data loader for the generated distribution, which yields image-condition pairs. Images are ignored, and the conditioning is used as input to the GAN.  \n",
    "4. **image_embedding** - An image embedding function. This will almost always be the InceptionEmbedding.  \n",
    "5. **condition_embedding** - A conditioning embedding function. As we are dealing with class conditioning in this example, we will use one-hot encoding.\n",
    "\n",
    "Other options:\n",
    "* **save_reference_stats** - Indicates whether the statistics of the reference distribution should be saved to the path provided in **reference_stats_path**. This can speed up computation of FJD if the same reference set is used for multiple evaluations.\n",
    "* **samples_per_condition** - Indicates the number of images that will be generated for each condition drawn from the condition loader. This may be useful if there are very few samples in the conditioning dataset, or to emphasize intra-conditioning diversity when calculating FJD.\n",
    "* **cuda** - If True, indicates that the GPU accelerated version of FJD should be used. This version should be considerably faster than the CPU version, but may be slightly more unstable."
   ]
  },
  {
   "cell_type": "code",
   "execution_count": 5,
   "metadata": {},
   "outputs": [
    {
     "name": "stderr",
     "output_type": "stream",
     "text": [
      "  0%|          | 729088/170498071 [00:00<00:23, 7267046.37it/s]"
     ]
    },
    {
     "name": "stdout",
     "output_type": "stream",
     "text": [
      "Downloading https://www.cs.toronto.edu/~kriz/cifar-10-python.tar.gz to ./datasets/cifar10/cifar-10-python.tar.gz\n"
     ]
    },
    {
     "name": "stderr",
     "output_type": "stream",
     "text": [
      "170500096it [00:08, 20917536.96it/s]                               \n"
     ]
    },
    {
     "name": "stdout",
     "output_type": "stream",
     "text": [
      "Extracting ./datasets/cifar10/cifar-10-python.tar.gz to ./datasets/cifar10\n",
      "Files already downloaded and verified\n",
      "Files already downloaded and verified\n"
     ]
    }
   ],
   "source": [
    "train_loader, test_loader = get_dataloaders()\n",
    "inception_embedding = InceptionEmbedding(parallel=False)\n",
    "onehot_embedding = OneHotEmbedding(num_classes=10)\n",
    "gan = SuspiciouslyGoodGAN()\n",
    "gan = GANWrapper(gan)\n",
    "\n",
    "fjd_metric = FJDMetric(gan=gan,\n",
    "                       reference_loader=train_loader,\n",
    "                       condition_loader=test_loader,\n",
    "                       image_embedding=inception_embedding,\n",
    "                       condition_embedding=onehot_embedding,\n",
    "                       reference_stats_path='datasets/cifar_train_stats.npz',\n",
    "                       save_reference_stats=True,\n",
    "                       samples_per_condition=1,\n",
    "                       cuda=True)"
   ]
  },
  {
   "cell_type": "markdown",
   "metadata": {},
   "source": [
    "Once the FJD object is initialized, FID and FJD can be calculated by calling **get_fid** or **get_fjd**.  By default, the alpha value used to weight the conditional component of FJD is selected to be the ratio between the average L2 norm of the image embedding and conditioning embedding.  \n",
    "\n",
    "We see in this example that even though our \"GAN\" gets a very good FID score due to the generated image distribution being very close to the reference image distribution, its FJD score is very bad, as the model lacks any conditional consistency."
   ]
  },
  {
   "cell_type": "code",
   "execution_count": 6,
   "metadata": {},
   "outputs": [
    {
     "name": "stderr",
     "output_type": "stream",
     "text": [
      "Computing reference distribution: 100%|██████████| 391/391 [01:49<00:00,  3.58it/s]\n",
      "Computing generated distribution: 100%|██████████| 79/79 [00:22<00:00,  3.58it/s]\n",
      "Computing generated distribution: 100%|██████████| 79/79 [00:21<00:00,  3.65it/s]\n"
     ]
    },
    {
     "name": "stdout",
     "output_type": "stream",
     "text": [
      "FID:  3.071923078837756\n",
      "FJD:  33.47266611128043\n"
     ]
    }
   ],
   "source": [
    "fid = fjd_metric.get_fid()\n",
    "fjd = fjd_metric.get_fjd()\n",
    "print('FID: ', fid)\n",
    "print('FJD: ', fjd)"
   ]
  },
  {
   "cell_type": "markdown",
   "metadata": {},
   "source": [
    "To visualize how FJD changes as we increase the weighting on the conditional component, we can evaluate it at a range of alpha values using the **sweep_alpha** function."
   ]
  },
  {
   "cell_type": "code",
   "execution_count": 7,
   "metadata": {},
   "outputs": [
    {
     "name": "stderr",
     "output_type": "stream",
     "text": [
      "Computing generated distribution: 100%|██████████| 79/79 [00:21<00:00,  3.62it/s]\n"
     ]
    },
    {
     "data": {
      "text/plain": [
       "<matplotlib.legend.Legend at 0x7f3f728a7278>"
      ]
     },
     "execution_count": 7,
     "metadata": {},
     "output_type": "execute_result"
    },
    {
     "data": {
      "image/png": "[encoded data removed]",
      "text/plain": [
       "<Figure size 432x288 with 1 Axes>"
      ]
     },
     "metadata": {
      "needs_background": "light"
     },
     "output_type": "display_data"
    }
   ],
   "source": [
    "alpha = fjd_metric.alpha\n",
    "alphas = [0, 1, 2, 4, 8, 16, 32]\n",
    "fjds = fjd_metric.sweep_alpha(alphas)\n",
    "\n",
    "plt.plot(alphas, fjds, label='FJD', linewidth=3)\n",
    "plt.plot(alphas, [fid]*len(alphas), label='FID', linewidth=3)\n",
    "plt.axvline(x=alpha, c='black', label=r'Suggested $\\alpha$', linewidth=2)\n",
    "plt.xlabel(r'$\\alpha$')\n",
    "plt.ylabel('Distance')\n",
    "plt.legend()"
   ]
  }
 ],
 "metadata": {
  "kernelspec": {
   "display_name": "Python (PyTorch)",
   "language": "python",
   "name": "torch"
  },
  "language_info": {
   "codemirror_mode": {
    "name": "ipython",
    "version": 3
   },
   "file_extension": ".py",
   "mimetype": "text/x-python",
   "name": "python",
   "nbconvert_exporter": "python",
   "pygments_lexer": "ipython3",
   "version": "3.6.7"
  }
 },
 "nbformat": 4,
 "nbformat_minor": 2
}
